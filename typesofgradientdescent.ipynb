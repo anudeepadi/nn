{
 "cells": [
  {
   "cell_type": "code",
   "execution_count": 1,
   "id": "fc85594c",
   "metadata": {},
   "outputs": [],
   "source": [
    "import matplotlib.pyplot as plt\n",
    "import numpy as np\n",
    "import pandas as pd"
   ]
  },
  {
   "cell_type": "code",
   "execution_count": 2,
   "id": "f6ac9ec5",
   "metadata": {},
   "outputs": [
    {
     "data": {
      "text/html": [
       "<div>\n",
       "<style scoped>\n",
       "    .dataframe tbody tr th:only-of-type {\n",
       "        vertical-align: middle;\n",
       "    }\n",
       "\n",
       "    .dataframe tbody tr th {\n",
       "        vertical-align: top;\n",
       "    }\n",
       "\n",
       "    .dataframe thead th {\n",
       "        text-align: right;\n",
       "    }\n",
       "</style>\n",
       "<table border=\"1\" class=\"dataframe\">\n",
       "  <thead>\n",
       "    <tr style=\"text-align: right;\">\n",
       "      <th></th>\n",
       "      <th>height</th>\n",
       "      <th>weight</th>\n",
       "    </tr>\n",
       "  </thead>\n",
       "  <tbody>\n",
       "    <tr>\n",
       "      <th>0</th>\n",
       "      <td>167</td>\n",
       "      <td>83.5</td>\n",
       "    </tr>\n",
       "    <tr>\n",
       "      <th>1</th>\n",
       "      <td>145</td>\n",
       "      <td>72.5</td>\n",
       "    </tr>\n",
       "    <tr>\n",
       "      <th>2</th>\n",
       "      <td>170</td>\n",
       "      <td>85.0</td>\n",
       "    </tr>\n",
       "    <tr>\n",
       "      <th>3</th>\n",
       "      <td>180</td>\n",
       "      <td>90.0</td>\n",
       "    </tr>\n",
       "    <tr>\n",
       "      <th>4</th>\n",
       "      <td>189</td>\n",
       "      <td>94.5</td>\n",
       "    </tr>\n",
       "    <tr>\n",
       "      <th>5</th>\n",
       "      <td>155</td>\n",
       "      <td>77.5</td>\n",
       "    </tr>\n",
       "    <tr>\n",
       "      <th>6</th>\n",
       "      <td>163</td>\n",
       "      <td>81.5</td>\n",
       "    </tr>\n",
       "    <tr>\n",
       "      <th>7</th>\n",
       "      <td>178</td>\n",
       "      <td>89.0</td>\n",
       "    </tr>\n",
       "    <tr>\n",
       "      <th>8</th>\n",
       "      <td>173</td>\n",
       "      <td>86.5</td>\n",
       "    </tr>\n",
       "    <tr>\n",
       "      <th>9</th>\n",
       "      <td>176</td>\n",
       "      <td>88.0</td>\n",
       "    </tr>\n",
       "  </tbody>\n",
       "</table>\n",
       "</div>"
      ],
      "text/plain": [
       "   height  weight\n",
       "0     167    83.5\n",
       "1     145    72.5\n",
       "2     170    85.0\n",
       "3     180    90.0\n",
       "4     189    94.5\n",
       "5     155    77.5\n",
       "6     163    81.5\n",
       "7     178    89.0\n",
       "8     173    86.5\n",
       "9     176    88.0"
      ]
     },
     "execution_count": 2,
     "metadata": {},
     "output_type": "execute_result"
    }
   ],
   "source": [
    "height=[167,145,170,180,189,155,163,178,173,176]\n",
    "weight=[83.5,72.5,85,90,94.5,77.5,81.5,89,86.5,88]\n",
    "data=pd.DataFrame(list(zip(height,weight)),columns=[\"height\",\"weight\"])\n",
    "data"
   ]
  },
  {
   "cell_type": "code",
   "execution_count": 3,
   "id": "ab1772b8",
   "metadata": {},
   "outputs": [],
   "source": [
    "x=data[\"height\"]\n",
    "y=data[\"weight\"]"
   ]
  },
  {
   "cell_type": "code",
   "execution_count": 4,
   "id": "e582f4c1",
   "metadata": {},
   "outputs": [],
   "source": [
    "#cost function \n",
    "def single_point_cost(x,y,w):   \n",
    "    y_pred= w * x\n",
    "    cost=( y_pred - y) **2  #linear regression\n",
    "    return cost"
   ]
  },
  {
   "cell_type": "code",
   "execution_count": 5,
   "id": "ae952595",
   "metadata": {},
   "outputs": [],
   "source": [
    "#grad function\n",
    "def grad(x,y,w,):\n",
    "    grad_w=2 * x * ((w * x) - y ) # derevative with respect to x\n",
    "    return grad_w"
   ]
  },
  {
   "cell_type": "code",
   "execution_count": 6,
   "id": "8f1c27bb",
   "metadata": {},
   "outputs": [],
   "source": [
    "# regular gradient descent\n",
    "w=0 # here we have  only one parameter\n",
    "gamma=0.000001 #learning rate\n",
    "all_costs=[]\n",
    "for k in range(60):\n",
    "    cost=0\n",
    "    for i in range(len(x)):\n",
    "        a=single_point_cost(x[i],y[i],w)\n",
    "        cost+=a\n",
    "    \n",
    "    cost1=cost/len(x)  #average cost\n",
    "    all_costs.append(cost1)\n",
    "    grad_w=0\n",
    "    for j in range(len(x)):\n",
    "        b=grad(x[j],y[j],w)\n",
    "        grad_w+=b\n",
    "    grad_w1=grad_w/len(x)  #avearge grad\n",
    "    w= w -  (gamma * grad_w1)  # in batch gradient descent update happens only one time"
   ]
  },
  {
   "cell_type": "code",
   "execution_count": 7,
   "id": "a02b7ce6",
   "metadata": {},
   "outputs": [
    {
     "data": {
      "text/plain": [
       "0.48597498598079936"
      ]
     },
     "execution_count": 7,
     "metadata": {},
     "output_type": "execute_result"
    }
   ],
   "source": [
    "w"
   ]
  },
  {
   "cell_type": "code",
   "execution_count": 8,
   "id": "75ccc4fd",
   "metadata": {},
   "outputs": [
    {
     "data": {
      "text/plain": [
       "[<matplotlib.lines.Line2D at 0x263fa544a30>]"
      ]
     },
     "execution_count": 8,
     "metadata": {},
     "output_type": "execute_result"
    },
    {
     "data": {
      "image/png": "[encoded data removed]",
      "text/plain": [
       "<Figure size 432x288 with 1 Axes>"
      ]
     },
     "metadata": {
      "needs_background": "light"
     },
     "output_type": "display_data"
    }
   ],
   "source": [
    "epochs=np.arange(60)\n",
    "plt.plot(epochs,all_costs)"
   ]
  },
  {
   "cell_type": "code",
   "execution_count": 9,
   "id": "b566b111",
   "metadata": {},
   "outputs": [],
   "source": [
    "# stochastic gradient descent\n",
    "all_costs23=[]\n",
    "w=0\n",
    "gamma=0.000001\n",
    "for k in range(60):\n",
    "    for i in range(len(x)):\n",
    "        cost21=single_point_cost(x[i],y[i],w)\n",
    "        grad_w21=grad(x[i],y[i],w)\n",
    "        w= w- (gamma * grad_w21) # in sgd update takes place after every point\n",
    "    all_costs23.append(cost21)"
   ]
  },
  {
   "cell_type": "code",
   "execution_count": 10,
   "id": "03675374",
   "metadata": {},
   "outputs": [
    {
     "data": {
      "text/plain": [
       "0.4999999999999996"
      ]
     },
     "execution_count": 10,
     "metadata": {},
     "output_type": "execute_result"
    }
   ],
   "source": [
    "w"
   ]
  },
  {
   "cell_type": "code",
   "execution_count": 11,
   "id": "615334d0",
   "metadata": {},
   "outputs": [
    {
     "data": {
      "text/plain": [
       "[<matplotlib.lines.Line2D at 0x263facf8190>]"
      ]
     },
     "execution_count": 11,
     "metadata": {},
     "output_type": "execute_result"
    },
    {
     "data": {
      "image/png": "[encoded data removed]",
      "text/plain": [
       "<Figure size 432x288 with 1 Axes>"
      ]
     },
     "metadata": {
      "needs_background": "light"
     },
     "output_type": "display_data"
    }
   ],
   "source": [
    "s1=np.arange(60)\n",
    "plt.plot(epochs,all_costs23)"
   ]
  },
  {
   "cell_type": "code",
   "execution_count": 12,
   "id": "a4b6ae74",
   "metadata": {},
   "outputs": [],
   "source": [
    "# mini batch gradient descent\n",
    "# let our batch size = 5\n",
    "#so we will have 2 batches because n=10  and updates will happen 2 times \n",
    "w=0\n",
    "gamma=0.000001\n",
    "batch_size= 5\n",
    "all_costs41=[]\n",
    "for k in range(60):\n",
    "    for j in range(int(len(x)/batch_size)):\n",
    "        cost4=0\n",
    "        for i in range(batch_size):\n",
    "            z1=single_point_cost(x[i],y[i],w)\n",
    "            cost4+=z1\n",
    "        if j==1:\n",
    "            all_costs41.append(cost4/batch_size) #avearge cost of that batch\n",
    "        grad_w41=0\n",
    "        for n in range(batch_size):\n",
    "            f1=grad(x[i],y[i],w)\n",
    "            grad_w41+=f1\n",
    "    \n",
    "        grad_w42=grad_w41/batch_size  #average grad of that function\n",
    "\n",
    "        w= w- (gamma * grad_w42)  # update takes place after every batch"
   ]
  },
  {
   "cell_type": "code",
   "execution_count": 13,
   "id": "abc271ff",
   "metadata": {},
   "outputs": [
    {
     "data": {
      "text/plain": [
       "[<matplotlib.lines.Line2D at 0x263fad69310>]"
      ]
     },
     "execution_count": 13,
     "metadata": {},
     "output_type": "execute_result"
    },
    {
     "data": {
      "image/png": "[encoded data removed]",
      "text/plain": [
       "<Figure size 432x288 with 1 Axes>"
      ]
     },
     "metadata": {
      "needs_background": "light"
     },
     "output_type": "display_data"
    }
   ],
   "source": [
    "plt.plot(epochs,all_costs41)"
   ]
  },
  {
   "cell_type": "code",
   "execution_count": 15,
   "id": "df22c843",
   "metadata": {},
   "outputs": [
    {
     "data": {
      "image/png": "[encoded data removed]",
      "text/plain": [
       "<Figure size 864x576 with 1 Axes>"
      ]
     },
     "metadata": {
      "needs_background": "light"
     },
     "output_type": "display_data"
    }
   ],
   "source": [
    "plt.figure(figsize=(12,8))\n",
    "plt.plot(epochs,all_costs,c='r',label=\"regular gd\")\n",
    "plt.plot(epochs,all_costs23,c='b',label=\"sgd\")\n",
    "plt.plot(epochs,all_costs41,c='g',label=\"mini batch gd\")\n",
    "plt.xlabel(\"epochs\")\n",
    "plt.ylabel(\"final_loss\")\n",
    "plt.legend()\n",
    "plt.show()"
   ]
  },
  {
   "cell_type": "code",
   "execution_count": null,
   "id": "82ef3738",
   "metadata": {},
   "outputs": [],
   "source": []
  }
 ],
 "metadata": {
  "kernelspec": {
   "display_name": "Python 3 (ipykernel)",
   "language": "python",
   "name": "python3"
  },
  "language_info": {
   "codemirror_mode": {
    "name": "ipython",
    "version": 3
   },
   "file_extension": ".py",
   "mimetype": "text/x-python",
   "name": "python",
   "nbconvert_exporter": "python",
   "pygments_lexer": "ipython3",
   "version": "3.9.7"
  }
 },
 "nbformat": 4,
 "nbformat_minor": 5
}
